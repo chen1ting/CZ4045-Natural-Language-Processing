{
 "cells": [
  {
   "cell_type": "code",
   "execution_count": 1,
   "id": "a30fdf8c",
   "metadata": {},
   "outputs": [
    {
     "name": "stdout",
     "output_type": "stream",
     "text": [
      "Collecting gradio\n",
      "  Downloading gradio-3.8.2-py3-none-any.whl (11.6 MB)\n",
      "     --------------------------------------- 11.6/11.6 MB 10.6 MB/s eta 0:00:00\n",
      "Collecting uvicorn\n",
      "  Downloading uvicorn-0.19.0-py3-none-any.whl (56 kB)\n",
      "     ---------------------------------------- 56.6/56.6 kB ? eta 0:00:00\n",
      "Collecting python-multipart\n",
      "  Downloading python-multipart-0.0.5.tar.gz (32 kB)\n",
      "  Preparing metadata (setup.py): started\n",
      "  Preparing metadata (setup.py): finished with status 'done'\n",
      "Collecting h11<0.13,>=0.11\n",
      "  Downloading h11-0.12.0-py3-none-any.whl (54 kB)\n",
      "     ---------------------------------------- 54.9/54.9 kB ? eta 0:00:00\n",
      "Collecting ffmpy\n",
      "  Downloading ffmpy-0.3.0.tar.gz (4.8 kB)\n",
      "  Preparing metadata (setup.py): started\n",
      "  Preparing metadata (setup.py): finished with status 'done'\n",
      "Collecting httpx\n",
      "  Downloading httpx-0.23.0-py3-none-any.whl (84 kB)\n",
      "     ---------------------------------------- 84.8/84.8 kB ? eta 0:00:00\n",
      "Requirement already satisfied: pandas in f:\\anaconda\\lib\\site-packages (from gradio) (1.5.0)\n",
      "Requirement already satisfied: jinja2 in f:\\anaconda\\lib\\site-packages (from gradio) (2.11.3)\n",
      "Collecting fsspec\n",
      "  Downloading fsspec-2022.10.0-py3-none-any.whl (138 kB)\n",
      "     -------------------------------------- 138.8/138.8 kB 8.0 MB/s eta 0:00:00\n",
      "Collecting pycryptodome\n",
      "  Downloading pycryptodome-3.15.0-cp35-abi3-win_amd64.whl (1.9 MB)\n",
      "     ---------------------------------------- 1.9/1.9 MB 20.8 MB/s eta 0:00:00\n",
      "Requirement already satisfied: pillow in f:\\anaconda\\lib\\site-packages (from gradio) (9.2.0)\n",
      "Requirement already satisfied: matplotlib in f:\\anaconda\\lib\\site-packages (from gradio) (3.6.1)\n",
      "Requirement already satisfied: requests in f:\\anaconda\\lib\\site-packages (from gradio) (2.28.1)\n",
      "Collecting orjson\n",
      "  Downloading orjson-3.8.1-cp38-none-win_amd64.whl (198 kB)\n",
      "     ------------------------------------- 198.8/198.8 kB 11.8 MB/s eta 0:00:00\n",
      "Collecting aiohttp\n",
      "  Downloading aiohttp-3.8.3-cp38-cp38-win_amd64.whl (324 kB)\n",
      "     ------------------------------------- 324.3/324.3 kB 19.6 MB/s eta 0:00:00\n",
      "Collecting fastapi\n",
      "  Downloading fastapi-0.85.2-py3-none-any.whl (55 kB)\n",
      "     ---------------------------------------- 55.4/55.4 kB ? eta 0:00:00\n",
      "Collecting paramiko\n",
      "  Downloading paramiko-2.11.0-py2.py3-none-any.whl (212 kB)\n",
      "     ------------------------------------- 212.9/212.9 kB 12.7 MB/s eta 0:00:00\n",
      "Requirement already satisfied: pyyaml in f:\\anaconda\\lib\\site-packages (from gradio) (6.0)\n",
      "Collecting markdown-it-py[linkify,plugins]\n",
      "  Downloading markdown_it_py-2.1.0-py3-none-any.whl (84 kB)\n",
      "     ---------------------------------------- 84.5/84.5 kB ? eta 0:00:00\n",
      "Collecting pydub\n",
      "  Downloading pydub-0.25.1-py2.py3-none-any.whl (32 kB)\n",
      "Collecting websockets\n",
      "  Downloading websockets-10.4-cp38-cp38-win_amd64.whl (101 kB)\n",
      "     -------------------------------------- 101.4/101.4 kB 5.7 MB/s eta 0:00:00\n",
      "Requirement already satisfied: numpy in f:\\anaconda\\lib\\site-packages (from gradio) (1.23.2)\n",
      "Collecting pydantic\n",
      "  Downloading pydantic-1.10.2-cp38-cp38-win_amd64.whl (2.2 MB)\n",
      "     ---------------------------------------- 2.2/2.2 MB 19.8 MB/s eta 0:00:00\n",
      "Collecting yarl<2.0,>=1.0\n",
      "  Downloading yarl-1.8.1-cp38-cp38-win_amd64.whl (56 kB)\n",
      "     ---------------------------------------- 56.8/56.8 kB ? eta 0:00:00\n",
      "Collecting async-timeout<5.0,>=4.0.0a3\n",
      "  Downloading async_timeout-4.0.2-py3-none-any.whl (5.8 kB)\n",
      "Requirement already satisfied: attrs>=17.3.0 in f:\\anaconda\\lib\\site-packages (from aiohttp->gradio) (21.4.0)\n",
      "Collecting multidict<7.0,>=4.5\n",
      "  Downloading multidict-6.0.2-cp38-cp38-win_amd64.whl (28 kB)\n",
      "Collecting frozenlist>=1.1.1\n",
      "  Downloading frozenlist-1.3.1-cp38-cp38-win_amd64.whl (34 kB)\n",
      "Collecting aiosignal>=1.1.2\n",
      "  Downloading aiosignal-1.2.0-py3-none-any.whl (8.2 kB)\n",
      "Requirement already satisfied: charset-normalizer<3.0,>=2.0 in f:\\anaconda\\lib\\site-packages (from aiohttp->gradio) (2.0.4)\n",
      "Collecting starlette==0.20.4\n",
      "  Downloading starlette-0.20.4-py3-none-any.whl (63 kB)\n",
      "     ---------------------------------------- 63.6/63.6 kB 1.7 MB/s eta 0:00:00\n",
      "Requirement already satisfied: typing-extensions>=3.10.0 in f:\\anaconda\\lib\\site-packages (from starlette==0.20.4->fastapi->gradio) (4.3.0)\n",
      "Collecting anyio<5,>=3.4.0\n",
      "  Downloading anyio-3.6.2-py3-none-any.whl (80 kB)\n",
      "     ---------------------------------------- 80.6/80.6 kB 4.4 MB/s eta 0:00:00\n",
      "Collecting httpcore<0.16.0,>=0.15.0\n",
      "  Downloading httpcore-0.15.0-py3-none-any.whl (68 kB)\n",
      "     ---------------------------------------- 68.4/68.4 kB 3.6 MB/s eta 0:00:00\n",
      "Collecting sniffio\n",
      "  Downloading sniffio-1.3.0-py3-none-any.whl (10 kB)\n",
      "Collecting rfc3986[idna2008]<2,>=1.3\n",
      "  Downloading rfc3986-1.5.0-py2.py3-none-any.whl (31 kB)\n",
      "Requirement already satisfied: certifi in f:\\anaconda\\lib\\site-packages (from httpx->gradio) (2022.6.15)\n",
      "Requirement already satisfied: MarkupSafe>=0.23 in f:\\anaconda\\lib\\site-packages (from jinja2->gradio) (2.0.1)\n",
      "Collecting mdurl~=0.1\n",
      "  Downloading mdurl-0.1.2-py3-none-any.whl (10.0 kB)\n",
      "Collecting mdit-py-plugins\n",
      "  Downloading mdit_py_plugins-0.3.1-py3-none-any.whl (46 kB)\n",
      "     ---------------------------------------- 46.5/46.5 kB ? eta 0:00:00\n",
      "Collecting linkify-it-py~=1.0\n",
      "  Downloading linkify_it_py-1.0.3-py3-none-any.whl (19 kB)\n",
      "Requirement already satisfied: packaging>=20.0 in f:\\anaconda\\lib\\site-packages (from matplotlib->gradio) (21.3)\n",
      "Requirement already satisfied: kiwisolver>=1.0.1 in f:\\anaconda\\lib\\site-packages (from matplotlib->gradio) (1.4.4)\n",
      "Requirement already satisfied: fonttools>=4.22.0 in f:\\anaconda\\lib\\site-packages (from matplotlib->gradio) (4.37.4)\n",
      "Requirement already satisfied: python-dateutil>=2.7 in f:\\anaconda\\lib\\site-packages (from matplotlib->gradio) (2.8.2)\n",
      "Requirement already satisfied: contourpy>=1.0.1 in f:\\anaconda\\lib\\site-packages (from matplotlib->gradio) (1.0.5)\n",
      "Requirement already satisfied: cycler>=0.10 in f:\\anaconda\\lib\\site-packages (from matplotlib->gradio) (0.11.0)\n",
      "Requirement already satisfied: pyparsing>=2.2.1 in f:\\anaconda\\lib\\site-packages (from matplotlib->gradio) (3.0.9)\n",
      "Requirement already satisfied: pytz>=2020.1 in f:\\anaconda\\lib\\site-packages (from pandas->gradio) (2022.1)\n",
      "Collecting pynacl>=1.0.1\n",
      "  Downloading PyNaCl-1.5.0-cp36-abi3-win_amd64.whl (212 kB)\n",
      "     ------------------------------------- 212.1/212.1 kB 12.6 MB/s eta 0:00:00\n",
      "Requirement already satisfied: six in f:\\anaconda\\lib\\site-packages (from paramiko->gradio) (1.16.0)\n",
      "Requirement already satisfied: cryptography>=2.5 in f:\\anaconda\\lib\\site-packages (from paramiko->gradio) (37.0.1)\n",
      "Collecting bcrypt>=3.1.3\n",
      "  Downloading bcrypt-4.0.1-cp36-abi3-win_amd64.whl (152 kB)\n",
      "     ---------------------------------------- 152.9/152.9 kB ? eta 0:00:00\n",
      "Requirement already satisfied: urllib3<1.27,>=1.21.1 in f:\\anaconda\\lib\\site-packages (from requests->gradio) (1.26.11)\n",
      "Requirement already satisfied: idna<4,>=2.5 in f:\\anaconda\\lib\\site-packages (from requests->gradio) (3.3)\n",
      "Requirement already satisfied: click>=7.0 in f:\\anaconda\\lib\\site-packages (from uvicorn->gradio) (8.0.4)\n",
      "Requirement already satisfied: colorama in f:\\anaconda\\lib\\site-packages (from click>=7.0->uvicorn->gradio) (0.4.5)\n",
      "Requirement already satisfied: cffi>=1.12 in f:\\anaconda\\lib\\site-packages (from cryptography>=2.5->paramiko->gradio) (1.15.1)\n",
      "Collecting uc-micro-py\n",
      "  Downloading uc_micro_py-1.0.1-py3-none-any.whl (6.2 kB)\n",
      "Requirement already satisfied: pycparser in f:\\anaconda\\lib\\site-packages (from cffi>=1.12->cryptography>=2.5->paramiko->gradio) (2.21)\n",
      "Building wheels for collected packages: ffmpy, python-multipart\n",
      "  Building wheel for ffmpy (setup.py): started\n",
      "  Building wheel for ffmpy (setup.py): finished with status 'done'\n",
      "  Created wheel for ffmpy: filename=ffmpy-0.3.0-py3-none-any.whl size=4693 sha256=ca0b7dcc79b6fad20f344f061bd293b857dd63ff6921a44f9b9e4a19a162fe24\n",
      "  Stored in directory: c:\\users\\user\\appdata\\local\\pip\\cache\\wheels\\ff\\5b\\59\\913b443e7369dc04b61f607a746b6f7d83fb65e2e19fcc958d\n",
      "  Building wheel for python-multipart (setup.py): started\n",
      "  Building wheel for python-multipart (setup.py): finished with status 'done'\n",
      "  Created wheel for python-multipart: filename=python_multipart-0.0.5-py3-none-any.whl size=31671 sha256=a50c145f5829b40e9439f11e0b13fe27e0a2ebde69239a446ec09f28390d2ab3\n",
      "  Stored in directory: c:\\users\\user\\appdata\\local\\pip\\cache\\wheels\\9e\\fc\\1c\\cf980e6413d3ee8e70cd8f39e2366b0f487e3e221aeb452eb0\n",
      "Successfully built ffmpy python-multipart\n",
      "Installing collected packages: rfc3986, pydub, ffmpy, websockets, uc-micro-py, sniffio, python-multipart, pydantic, pycryptodome, orjson, multidict, mdurl, h11, fsspec, frozenlist, bcrypt, async-timeout, yarl, uvicorn, pynacl, markdown-it-py, linkify-it-py, anyio, aiosignal, starlette, paramiko, mdit-py-plugins, httpcore, aiohttp, httpx, fastapi, gradio\n",
      "Successfully installed aiohttp-3.8.3 aiosignal-1.2.0 anyio-3.6.2 async-timeout-4.0.2 bcrypt-4.0.1 fastapi-0.85.2 ffmpy-0.3.0 frozenlist-1.3.1 fsspec-2022.10.0 gradio-3.8.2 h11-0.12.0 httpcore-0.15.0 httpx-0.23.0 linkify-it-py-1.0.3 markdown-it-py-2.1.0 mdit-py-plugins-0.3.1 mdurl-0.1.2 multidict-6.0.2 orjson-3.8.1 paramiko-2.11.0 pycryptodome-3.15.0 pydantic-1.10.2 pydub-0.25.1 pynacl-1.5.0 python-multipart-0.0.5 rfc3986-1.5.0 sniffio-1.3.0 starlette-0.20.4 uc-micro-py-1.0.1 uvicorn-0.19.0 websockets-10.4 yarl-1.8.1\n"
     ]
    }
   ],
   "source": [
    "!pip install gradio"
   ]
  },
  {
   "cell_type": "code",
   "execution_count": 2,
   "id": "646888d2",
   "metadata": {},
   "outputs": [],
   "source": [
    "import gradio as gr"
   ]
  },
  {
   "cell_type": "code",
   "execution_count": 36,
   "id": "959503dc",
   "metadata": {
    "scrolled": true
   },
   "outputs": [],
   "source": [
    "#function for analyzing overall sentiment\n",
    "def analyze_sentiment(sentiment):\n",
    "    if sentiment < 0.25:\n",
    "        overall_sentiment = \"very negative\"\n",
    "    elif sentiment < 0.5:\n",
    "        overall_sentiment = \"negative\"\n",
    "    elif sentiment < 0.75:\n",
    "        overall_sentiment = \"positive\"\n",
    "    else:\n",
    "        overall_sentiment = \"very positive\"\n",
    "    return overall_sentiment\n",
    "\n",
    "def nlp(game_title, sentiment, activate_scrape):\n",
    "    \n",
    "    \"\"\"\n",
    "    #insert function to scrape twitter for game title here\n",
    "    dataset = scrape(game_title)\n",
    "    \n",
    "    #insert preprocessing function here\n",
    "    processed_dataset = preprocess(dataset)\n",
    "    \n",
    "    #run through predictor\n",
    "    predicted_dataset = predict(processed_dataset)\n",
    "    \n",
    "    #Reviewing overall sentiment\n",
    "    sentiment = 0.22\n",
    "    \"\"\"\n",
    "    \n",
    "    #if scrape checkbox is marked\n",
    "    if activate_scrape:\n",
    "        overall_sentiment = analyze_sentiment(sentiment)\n",
    "\n",
    "        return {analysis : \"overall sentiment for \" + game_title + \" is \" + overall_sentiment,\n",
    "                scraped_tweets : \"testing\\n\",\"testing\"}\n",
    "    else:\n",
    "        overall_sentiment = analyze_sentiment(sentiment)\n",
    "\n",
    "        return {analysis : \"overall sentiment for \" + game_title + \" is \" + overall_sentiment}\n",
    "#iface = gr.Interface(fn=nlp, inputs=[\"text\", gr.Slider(0,1.00)], outputs=\"text\")\n",
    "#iface.launch()"
   ]
  },
  {
   "cell_type": "code",
   "execution_count": 37,
   "id": "4e6355ac",
   "metadata": {},
   "outputs": [
    {
     "name": "stdout",
     "output_type": "stream",
     "text": [
      "Running on local URL:  http://127.0.0.1:7883\n",
      "\n",
      "To create a public link, set `share=True` in `launch()`.\n"
     ]
    },
    {
     "data": {
      "text/html": [
       "<div><iframe src=\"http://127.0.0.1:7883/\" width=\"900\" height=\"500\" allow=\"autoplay; camera; microphone; clipboard-read; clipboard-write;\" frameborder=\"0\" allowfullscreen></iframe></div>"
      ],
      "text/plain": [
       "<IPython.core.display.HTML object>"
      ]
     },
     "metadata": {},
     "output_type": "display_data"
    },
    {
     "data": {
      "text/plain": [
       "(<gradio.routes.App at 0x25c29e2be50>, 'http://127.0.0.1:7883/', None)"
      ]
     },
     "execution_count": 37,
     "metadata": {},
     "output_type": "execute_result"
    }
   ],
   "source": [
    "with gr.Blocks() as demo:\n",
    "    with gr.Row():\n",
    "        with gr.Column(scale=1):\n",
    "            game_title = gr.Textbox(label = \"Game Title\")\n",
    "            sentiment = gr.Slider(0,1000, label = \"Amount of tweets to scrape\")\n",
    "            activate_scrape = gr.Checkbox(label = \"Show scraped data?\")\n",
    "            submit_button = gr.Button(\"Submit\")\n",
    "        with gr.Column(scale=4):\n",
    "            analysis = gr.Textbox(label = \"Sentiment\")\n",
    "            scraped_tweets = gr.Textbox(label = \"Scraped Data\")\n",
    "    \n",
    "    submit_button.click(nlp, inputs=[game_title,sentiment,activate_scrape], outputs=[analysis, scraped_tweets])\n",
    "    \n",
    "\n",
    "demo.launch()"
   ]
  },
  {
   "cell_type": "code",
   "execution_count": null,
   "id": "3f783431",
   "metadata": {},
   "outputs": [],
   "source": []
  }
 ],
 "metadata": {
  "kernelspec": {
   "display_name": "Python 3 (ipykernel)",
   "language": "python",
   "name": "python3"
  },
  "language_info": {
   "codemirror_mode": {
    "name": "ipython",
    "version": 3
   },
   "file_extension": ".py",
   "mimetype": "text/x-python",
   "name": "python",
   "nbconvert_exporter": "python",
   "pygments_lexer": "ipython3",
   "version": "3.8.8"
  }
 },
 "nbformat": 4,
 "nbformat_minor": 5
}
