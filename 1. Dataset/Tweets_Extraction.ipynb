{
  "cells": [
    {
      "cell_type": "markdown",
      "metadata": {
        "id": "dfL9fu80YaBF"
      },
      "source": [
        "# Libraries Needed"
      ]
    },
    {
      "cell_type": "code",
      "execution_count": 1,
      "metadata": {
        "id": "JzCMpfxpYaBK"
      },
      "outputs": [],
      "source": [
        "# Basic Libraries\n",
        "## make sure python version 3.8 and above\n",
        "# !pip install snscrape\n",
        "\n",
        "import snscrape.modules.twitter as sntwitter\n",
        "import pandas as pd\n",
        "import numpy as np\n",
        "import pandas as pd\n",
        "import seaborn as sb\n",
        "import matplotlib.pyplot as plt # we only need pyplot\n",
        "import os\n",
        "import matplotlib.dates as mdates\n",
        "sb.set() # set the default Seaborn style for graphics\n",
        "import traceback"
      ]
    },
    {
      "cell_type": "markdown",
      "metadata": {
        "id": "YG6MoFmhYaBM"
      },
      "source": [
        "## Scraping"
      ]
    },
    {
      "cell_type": "code",
      "execution_count": 2,
      "metadata": {
        "id": "I3x-dbIPYaBN"
      },
      "outputs": [],
      "source": [
        "##EDIT TO INCLUDE EXCEPTION\n",
        "\n",
        "#Scrapper for the top games\n",
        "def scraping_game(start, end, games, amount):\n",
        "    tweets_df = {}\n",
        "    \n",
        "    for game in games:\n",
        "       # Creating list to append tweet data to\n",
        "        tweets_list = []\n",
        "        \n",
        "        try:\n",
        "            # Using TwitterSearchScraper to scrape data and append tweets to list\n",
        "            for i,tweet in enumerate(sntwitter.TwitterSearchScraper('%s lang:en since:%s until:%s' %(game,start,end)).get_items()):\n",
        "                if i>(amount-1):\n",
        "                    break\n",
        "\n",
        "                tweets_list.append([game, tweet.date, tweet.id, tweet.content, tweet.retweetCount, tweet.likeCount, tweet.user.username])\n",
        "        \n",
        "        except Exception:\n",
        "            continue\n",
        "\n",
        "        # Creating a dataframe from the tweets list above\n",
        "        tweets_df[game] = pd.DataFrame(tweets_list, columns=['Game','Datetime', 'TweetId', 'Text', 'RetweetCount', 'LikeCount','Username'])\n",
        "        print(\"Finish Scraping %s for %s\" %(len(tweets_df[game]), game))\n",
        "    \n",
        "    #Concat dict df into one df\n",
        "    # print(tweets_df)\n",
        "    new_df = pd.concat(tweets_df.values(), ignore_index=True)\n",
        "    return new_df\n"
      ]
    },
    {
      "cell_type": "markdown",
      "metadata": {
        "id": "QewuSh8yYaBO"
      },
      "source": [
        "## Year 2020 - 2022"
      ]
    },
    {
      "cell_type": "markdown",
      "metadata": {
        "id": "LYTyF-n6YaBO"
      },
      "source": [
        "minimum: 10,000 records and  100,000 words.   \n",
        "scrape about 250 records of each game for 2020, 2021 and 2022\n",
        "total: 1500 records\n"
      ]
    },
    {
      "cell_type": "code",
      "execution_count": 3,
      "metadata": {
        "id": "eF2IILrEYaBP"
      },
      "outputs": [],
      "source": [
        "games = [\"apex legends\", \"pubg\"]"
      ]
    },
    {
      "cell_type": "code",
      "execution_count": 4,
      "metadata": {
        "id": "xXdPrAgaYaBQ",
        "outputId": "844015ee-5958-461f-cdab-4253d200262f"
      },
      "outputs": [
        {
          "name": "stdout",
          "output_type": "stream",
          "text": [
            "Finish Scraping 250 for apex legends\n",
            "Finish Scraping 250 for pubg\n"
          ]
        },
        {
          "data": {
            "text/plain": [
              "500"
            ]
          },
          "execution_count": 4,
          "metadata": {},
          "output_type": "execute_result"
        }
      ],
      "source": [
        "df_2020 = scraping_game(\"2020-01-01\", \"2021-01-01\", games, 250)\n",
        "len(df_2020)"
      ]
    },
    {
      "cell_type": "code",
      "execution_count": 5,
      "metadata": {},
      "outputs": [
        {
          "data": {
            "text/html": [
              "<div>\n",
              "<style scoped>\n",
              "    .dataframe tbody tr th:only-of-type {\n",
              "        vertical-align: middle;\n",
              "    }\n",
              "\n",
              "    .dataframe tbody tr th {\n",
              "        vertical-align: top;\n",
              "    }\n",
              "\n",
              "    .dataframe thead th {\n",
              "        text-align: right;\n",
              "    }\n",
              "</style>\n",
              "<table border=\"1\" class=\"dataframe\">\n",
              "  <thead>\n",
              "    <tr style=\"text-align: right;\">\n",
              "      <th></th>\n",
              "      <th>Game</th>\n",
              "      <th>Datetime</th>\n",
              "      <th>TweetId</th>\n",
              "      <th>Text</th>\n",
              "      <th>RetweetCount</th>\n",
              "      <th>LikeCount</th>\n",
              "      <th>Username</th>\n",
              "    </tr>\n",
              "  </thead>\n",
              "  <tbody>\n",
              "    <tr>\n",
              "      <th>191</th>\n",
              "      <td>apex legends</td>\n",
              "      <td>2020-12-31 22:17:09+00:00</td>\n",
              "      <td>1344769591130664963</td>\n",
              "      <td>Winner winner chicken dinner 🤪🤪 #ApexLegends #...</td>\n",
              "      <td>0</td>\n",
              "      <td>0</td>\n",
              "      <td>maverikk92</td>\n",
              "    </tr>\n",
              "    <tr>\n",
              "      <th>441</th>\n",
              "      <td>pubg</td>\n",
              "      <td>2020-12-31 20:13:00+00:00</td>\n",
              "      <td>1344738347336478721</td>\n",
              "      <td>Make I go play PUBG jare 😹😹🙏🏾 one day I know s...</td>\n",
              "      <td>0</td>\n",
              "      <td>1</td>\n",
              "      <td>lone_orc</td>\n",
              "    </tr>\n",
              "    <tr>\n",
              "      <th>379</th>\n",
              "      <td>pubg</td>\n",
              "      <td>2020-12-31 21:15:37+00:00</td>\n",
              "      <td>1344754105210859525</td>\n",
              "      <td>@PUBG Can you unban my friend acc he don't hav...</td>\n",
              "      <td>0</td>\n",
              "      <td>0</td>\n",
              "      <td>Vladimi01867472</td>\n",
              "    </tr>\n",
              "    <tr>\n",
              "      <th>394</th>\n",
              "      <td>pubg</td>\n",
              "      <td>2020-12-31 20:52:56+00:00</td>\n",
              "      <td>1344748395169247258</td>\n",
              "      <td>@dkoplxtwqhbjiu @PUBG_US @IntelGaming Empty as...</td>\n",
              "      <td>0</td>\n",
              "      <td>3</td>\n",
              "      <td>PapiMaxi</td>\n",
              "    </tr>\n",
              "    <tr>\n",
              "      <th>17</th>\n",
              "      <td>apex legends</td>\n",
              "      <td>2020-12-31 23:49:18+00:00</td>\n",
              "      <td>1344792780380327936</td>\n",
              "      <td>hahha thats so cool anyways do you want to pla...</td>\n",
              "      <td>0</td>\n",
              "      <td>0</td>\n",
              "      <td>willyjohnson56</td>\n",
              "    </tr>\n",
              "    <tr>\n",
              "      <th>460</th>\n",
              "      <td>pubg</td>\n",
              "      <td>2020-12-31 19:47:50+00:00</td>\n",
              "      <td>1344732011269787649</td>\n",
              "      <td>Preparation done for 2021 time pass!💕\\n#PUBG h...</td>\n",
              "      <td>0</td>\n",
              "      <td>5</td>\n",
              "      <td>_happy_asf</td>\n",
              "    </tr>\n",
              "    <tr>\n",
              "      <th>494</th>\n",
              "      <td>pubg</td>\n",
              "      <td>2020-12-31 19:25:01+00:00</td>\n",
              "      <td>1344726271251501056</td>\n",
              "      <td>HOUSE OF DEATH | PUBG MOBILE  https://t.co/J06...</td>\n",
              "      <td>0</td>\n",
              "      <td>0</td>\n",
              "      <td>fps_gamematome</td>\n",
              "    </tr>\n",
              "    <tr>\n",
              "      <th>356</th>\n",
              "      <td>pubg</td>\n",
              "      <td>2020-12-31 21:38:28+00:00</td>\n",
              "      <td>1344759854762749953</td>\n",
              "      <td>@Urnameium @PUBG I'm with you on Miramar, coul...</td>\n",
              "      <td>0</td>\n",
              "      <td>0</td>\n",
              "      <td>LordHemsee</td>\n",
              "    </tr>\n",
              "    <tr>\n",
              "      <th>11</th>\n",
              "      <td>apex legends</td>\n",
              "      <td>2020-12-31 23:54:38+00:00</td>\n",
              "      <td>1344794121072902145</td>\n",
              "      <td>Check out my broadcast from my PlayStation 4! ...</td>\n",
              "      <td>0</td>\n",
              "      <td>0</td>\n",
              "      <td>ReziiiSZN</td>\n",
              "    </tr>\n",
              "    <tr>\n",
              "      <th>112</th>\n",
              "      <td>apex legends</td>\n",
              "      <td>2020-12-31 23:02:51+00:00</td>\n",
              "      <td>1344781091757031424</td>\n",
              "      <td>🌈 Streaming pubs and maybe some ranked #ApexLe...</td>\n",
              "      <td>0</td>\n",
              "      <td>1</td>\n",
              "      <td>hannahsdefense</td>\n",
              "    </tr>\n",
              "    <tr>\n",
              "      <th>477</th>\n",
              "      <td>pubg</td>\n",
              "      <td>2020-12-31 19:33:27+00:00</td>\n",
              "      <td>1344728393170956290</td>\n",
              "      <td>@Aderinsola_O Candy Crush \\nCODM \\nPUBG \\n2048...</td>\n",
              "      <td>0</td>\n",
              "      <td>0</td>\n",
              "      <td>Obiinnaa</td>\n",
              "    </tr>\n",
              "    <tr>\n",
              "      <th>241</th>\n",
              "      <td>apex legends</td>\n",
              "      <td>2020-12-31 21:49:48+00:00</td>\n",
              "      <td>1344762708672045061</td>\n",
              "      <td>People really out here cheating on Apex Legend...</td>\n",
              "      <td>0</td>\n",
              "      <td>0</td>\n",
              "      <td>LobaSupremacy</td>\n",
              "    </tr>\n",
              "    <tr>\n",
              "      <th>458</th>\n",
              "      <td>pubg</td>\n",
              "      <td>2020-12-31 19:49:04+00:00</td>\n",
              "      <td>1344732321413529602</td>\n",
              "      <td>PUBG Mobile Live Stream | Happy New Year 2021 ...</td>\n",
              "      <td>0</td>\n",
              "      <td>0</td>\n",
              "      <td>numanrki</td>\n",
              "    </tr>\n",
              "    <tr>\n",
              "      <th>134</th>\n",
              "      <td>apex legends</td>\n",
              "      <td>2020-12-31 22:48:50+00:00</td>\n",
              "      <td>1344777564322193408</td>\n",
              "      <td>#Live Playing #ApexLegends #Apex\\n\\n#newstream...</td>\n",
              "      <td>1</td>\n",
              "      <td>0</td>\n",
              "      <td>ZeroForeverTV</td>\n",
              "    </tr>\n",
              "    <tr>\n",
              "      <th>234</th>\n",
              "      <td>apex legends</td>\n",
              "      <td>2020-12-31 21:52:22+00:00</td>\n",
              "      <td>1344763354590687232</td>\n",
              "      <td>Check out my broadcast from my PlayStation 4! ...</td>\n",
              "      <td>0</td>\n",
              "      <td>0</td>\n",
              "      <td>s3lf_mad3_jok3r</td>\n",
              "    </tr>\n",
              "    <tr>\n",
              "      <th>236</th>\n",
              "      <td>apex legends</td>\n",
              "      <td>2020-12-31 21:51:57+00:00</td>\n",
              "      <td>1344763247384276992</td>\n",
              "      <td>To end 2020 off, here are my favorite Apex Leg...</td>\n",
              "      <td>5</td>\n",
              "      <td>65</td>\n",
              "      <td>ALovelyRaven</td>\n",
              "    </tr>\n",
              "    <tr>\n",
              "      <th>325</th>\n",
              "      <td>pubg</td>\n",
              "      <td>2020-12-31 22:19:33+00:00</td>\n",
              "      <td>1344770194451927051</td>\n",
              "      <td>@omarmohammadd I miss playing pubg with u and ...</td>\n",
              "      <td>0</td>\n",
              "      <td>0</td>\n",
              "      <td>EnaasXO</td>\n",
              "    </tr>\n",
              "    <tr>\n",
              "      <th>412</th>\n",
              "      <td>pubg</td>\n",
              "      <td>2020-12-31 20:37:43+00:00</td>\n",
              "      <td>1344744568298717186</td>\n",
              "      <td>@PUBG_US Is there still bots?</td>\n",
              "      <td>0</td>\n",
              "      <td>0</td>\n",
              "      <td>MaddSwamii</td>\n",
              "    </tr>\n",
              "    <tr>\n",
              "      <th>370</th>\n",
              "      <td>pubg</td>\n",
              "      <td>2020-12-31 21:24:39+00:00</td>\n",
              "      <td>1344756379454738440</td>\n",
              "      <td>@WTSGxoxo @PUBG_EU Or the bridge between North...</td>\n",
              "      <td>0</td>\n",
              "      <td>0</td>\n",
              "      <td>Patjeuh_070</td>\n",
              "    </tr>\n",
              "    <tr>\n",
              "      <th>476</th>\n",
              "      <td>pubg</td>\n",
              "      <td>2020-12-31 19:33:41+00:00</td>\n",
              "      <td>1344728450922377223</td>\n",
              "      <td>@baymaxedTV @PUBG So you’re who I ask for the ...</td>\n",
              "      <td>0</td>\n",
              "      <td>0</td>\n",
              "      <td>Lance_Warner_</td>\n",
              "    </tr>\n",
              "  </tbody>\n",
              "</table>\n",
              "</div>"
            ],
            "text/plain": [
              "             Game                  Datetime              TweetId  \\\n",
              "191  apex legends 2020-12-31 22:17:09+00:00  1344769591130664963   \n",
              "441          pubg 2020-12-31 20:13:00+00:00  1344738347336478721   \n",
              "379          pubg 2020-12-31 21:15:37+00:00  1344754105210859525   \n",
              "394          pubg 2020-12-31 20:52:56+00:00  1344748395169247258   \n",
              "17   apex legends 2020-12-31 23:49:18+00:00  1344792780380327936   \n",
              "460          pubg 2020-12-31 19:47:50+00:00  1344732011269787649   \n",
              "494          pubg 2020-12-31 19:25:01+00:00  1344726271251501056   \n",
              "356          pubg 2020-12-31 21:38:28+00:00  1344759854762749953   \n",
              "11   apex legends 2020-12-31 23:54:38+00:00  1344794121072902145   \n",
              "112  apex legends 2020-12-31 23:02:51+00:00  1344781091757031424   \n",
              "477          pubg 2020-12-31 19:33:27+00:00  1344728393170956290   \n",
              "241  apex legends 2020-12-31 21:49:48+00:00  1344762708672045061   \n",
              "458          pubg 2020-12-31 19:49:04+00:00  1344732321413529602   \n",
              "134  apex legends 2020-12-31 22:48:50+00:00  1344777564322193408   \n",
              "234  apex legends 2020-12-31 21:52:22+00:00  1344763354590687232   \n",
              "236  apex legends 2020-12-31 21:51:57+00:00  1344763247384276992   \n",
              "325          pubg 2020-12-31 22:19:33+00:00  1344770194451927051   \n",
              "412          pubg 2020-12-31 20:37:43+00:00  1344744568298717186   \n",
              "370          pubg 2020-12-31 21:24:39+00:00  1344756379454738440   \n",
              "476          pubg 2020-12-31 19:33:41+00:00  1344728450922377223   \n",
              "\n",
              "                                                  Text  RetweetCount  \\\n",
              "191  Winner winner chicken dinner 🤪🤪 #ApexLegends #...             0   \n",
              "441  Make I go play PUBG jare 😹😹🙏🏾 one day I know s...             0   \n",
              "379  @PUBG Can you unban my friend acc he don't hav...             0   \n",
              "394  @dkoplxtwqhbjiu @PUBG_US @IntelGaming Empty as...             0   \n",
              "17   hahha thats so cool anyways do you want to pla...             0   \n",
              "460  Preparation done for 2021 time pass!💕\\n#PUBG h...             0   \n",
              "494  HOUSE OF DEATH | PUBG MOBILE  https://t.co/J06...             0   \n",
              "356  @Urnameium @PUBG I'm with you on Miramar, coul...             0   \n",
              "11   Check out my broadcast from my PlayStation 4! ...             0   \n",
              "112  🌈 Streaming pubs and maybe some ranked #ApexLe...             0   \n",
              "477  @Aderinsola_O Candy Crush \\nCODM \\nPUBG \\n2048...             0   \n",
              "241  People really out here cheating on Apex Legend...             0   \n",
              "458  PUBG Mobile Live Stream | Happy New Year 2021 ...             0   \n",
              "134  #Live Playing #ApexLegends #Apex\\n\\n#newstream...             1   \n",
              "234  Check out my broadcast from my PlayStation 4! ...             0   \n",
              "236  To end 2020 off, here are my favorite Apex Leg...             5   \n",
              "325  @omarmohammadd I miss playing pubg with u and ...             0   \n",
              "412                      @PUBG_US Is there still bots?             0   \n",
              "370  @WTSGxoxo @PUBG_EU Or the bridge between North...             0   \n",
              "476  @baymaxedTV @PUBG So you’re who I ask for the ...             0   \n",
              "\n",
              "     LikeCount         Username  \n",
              "191          0       maverikk92  \n",
              "441          1         lone_orc  \n",
              "379          0  Vladimi01867472  \n",
              "394          3         PapiMaxi  \n",
              "17           0   willyjohnson56  \n",
              "460          5       _happy_asf  \n",
              "494          0   fps_gamematome  \n",
              "356          0       LordHemsee  \n",
              "11           0        ReziiiSZN  \n",
              "112          1   hannahsdefense  \n",
              "477          0         Obiinnaa  \n",
              "241          0    LobaSupremacy  \n",
              "458          0         numanrki  \n",
              "134          0    ZeroForeverTV  \n",
              "234          0  s3lf_mad3_jok3r  \n",
              "236         65     ALovelyRaven  \n",
              "325          0          EnaasXO  \n",
              "412          0       MaddSwamii  \n",
              "370          0      Patjeuh_070  \n",
              "476          0    Lance_Warner_  "
            ]
          },
          "execution_count": 5,
          "metadata": {},
          "output_type": "execute_result"
        }
      ],
      "source": [
        "df_2020.sample(20)"
      ]
    },
    {
      "cell_type": "code",
      "execution_count": 6,
      "metadata": {
        "id": "68iMAqAuYaBS",
        "outputId": "defa380b-4821-4607-825e-5bf6bbf6a499"
      },
      "outputs": [
        {
          "name": "stdout",
          "output_type": "stream",
          "text": [
            "Finish Scraping 250 for apex legends\n",
            "Finish Scraping 250 for pubg\n"
          ]
        },
        {
          "data": {
            "text/plain": [
              "500"
            ]
          },
          "execution_count": 6,
          "metadata": {},
          "output_type": "execute_result"
        }
      ],
      "source": [
        "df_2021 = scraping_game(\"2021-01-01\", \"2022-01-01\", games, 250)\n",
        "len(df_2021)"
      ]
    },
    {
      "cell_type": "code",
      "execution_count": 7,
      "metadata": {
        "id": "N1Zocg60YaBT",
        "outputId": "78237805-7585-4c90-b570-dc6317bb208b"
      },
      "outputs": [
        {
          "name": "stdout",
          "output_type": "stream",
          "text": [
            "Finish Scraping 250 for apex legends\n",
            "Finish Scraping 250 for pubg\n"
          ]
        },
        {
          "data": {
            "text/plain": [
              "500"
            ]
          },
          "execution_count": 7,
          "metadata": {},
          "output_type": "execute_result"
        }
      ],
      "source": [
        "df_2022 = scraping_game(\"2022-01-01\", \"2022-03-12\", games, 250)\n",
        "len(df_2022)"
      ]
    },
    {
      "cell_type": "code",
      "execution_count": 8,
      "metadata": {
        "id": "kiYgGCk5YaBT",
        "outputId": "00792a90-e3b1-4a5d-d0f5-da3210a33ed8"
      },
      "outputs": [
        {
          "name": "stdout",
          "output_type": "stream",
          "text": [
            "2020 Dataset:  500\n",
            "2021 Dataset:  500\n",
            "2022 Dataset:  500\n",
            "\n",
            "Total Dataset:  1500\n"
          ]
        }
      ],
      "source": [
        "print(\"2020 Dataset: \", len(df_2020))\n",
        "print(\"2021 Dataset: \", len(df_2021))\n",
        "print(\"2022 Dataset: \", len(df_2022))\n",
        "print()\n",
        "print(\"Total Dataset: \", len(df_2020) + len(df_2021) + len(df_2022))"
      ]
    },
    {
      "cell_type": "code",
      "execution_count": 12,
      "metadata": {
        "id": "At4sQ5r9YaBU"
      },
      "outputs": [],
      "source": [
        "tweets = [df_2020, df_2021, df_2022]\n",
        "combined_df = pd.concat(tweets, ignore_index=True)\n",
        "combined_df.to_csv('apex_pubg_tweets.csv') "
      ]
    }
  ],
  "metadata": {
    "colab": {
      "provenance": []
    },
    "kernelspec": {
      "display_name": "Python 3 (ipykernel)",
      "language": "python",
      "name": "python3"
    },
    "language_info": {
      "codemirror_mode": {
        "name": "ipython",
        "version": 3
      },
      "file_extension": ".py",
      "mimetype": "text/x-python",
      "name": "python",
      "nbconvert_exporter": "python",
      "pygments_lexer": "ipython3",
      "version": "3.9.0"
    }
  },
  "nbformat": 4,
  "nbformat_minor": 0
}
