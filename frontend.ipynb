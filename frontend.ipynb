{
 "cells": [
  {
   "cell_type": "code",
   "execution_count": 4,
   "id": "a30fdf8c",
   "metadata": {},
   "outputs": [],
   "source": [
    "#!pip install gradio\n",
    "# Basic Libraries\n",
    "## make sure python version 3.8 and above\n",
    "#!pip install snscrape\n",
    "\n",
    "import snscrape.modules.twitter as sntwitter\n",
    "import numpy as np\n",
    "import pandas as pd\n",
    "import matplotlib.pyplot as plt # we only need pyplot\n",
    "import os\n",
    "import matplotlib.dates as mdates\n",
    "import traceback"
   ]
  },
  {
   "cell_type": "code",
   "execution_count": 5,
   "id": "646888d2",
   "metadata": {},
   "outputs": [],
   "source": [
    "import gradio as gr"
   ]
  },
  {
   "cell_type": "markdown",
   "id": "b6b245b6",
   "metadata": {},
   "source": [
    "# Functions for analyzing"
   ]
  },
  {
   "cell_type": "code",
   "execution_count": 16,
   "id": "959503dc",
   "metadata": {
    "scrolled": true
   },
   "outputs": [],
   "source": [
    "#function for analyzing overall sentiment\n",
    "def analyze_sentiment(sentiment):\n",
    "    if sentiment < 0.25:\n",
    "        overall_sentiment = \"very negative\"\n",
    "    elif sentiment < 0.5:\n",
    "        overall_sentiment = \"negative\"\n",
    "    elif sentiment < 0.75:\n",
    "        overall_sentiment = \"positive\"\n",
    "    else:\n",
    "        overall_sentiment = \"very positive\"\n",
    "    return overall_sentiment\n",
    "\n",
    "#function for analyzing overall polarity\n",
    "def analyze_polarity(polarity):\n",
    "    if sentiment < 0.25:\n",
    "        overall_sentiment = \"Largely neutral\"\n",
    "    elif sentiment < 0.5:\n",
    "        overall_sentiment = \"More neutral than opionated\"\n",
    "    elif sentiment < 0.75:\n",
    "        overall_sentiment = \"More opionated than neutral\"\n",
    "    else:\n",
    "        overall_sentiment = \"Largely opionated\"\n",
    "    return overall_sentiment\n",
    "\n",
    "\n",
    "#Scrapper for the top games\n",
    "def scraping_game(start, end, game, amount):\n",
    "    tweets_df = {}\n",
    "    \n",
    "    # Creating list to append tweet data to\n",
    "    tweets_list = []\n",
    "\n",
    "    try:\n",
    "        # Using TwitterSearchScraper to scrape data and append tweets to list\n",
    "        for i,tweet in enumerate(sntwitter.TwitterSearchScraper('%s lang:en since:%s until:%s' %(game,start,end)).get_items()):\n",
    "            if i>(amount-1):\n",
    "                break\n",
    "\n",
    "            tweets_list.append([game, tweet.date, tweet.id, tweet.content, tweet.retweetCount, tweet.likeCount, tweet.user.username])\n",
    "\n",
    "    except Exception:\n",
    "        print(Exception)\n",
    "\n",
    "    # Creating a dataframe from the tweets list above\n",
    "    tweets_df[game] = pd.DataFrame(tweets_list, columns=['Game','Datetime', 'TweetId', 'Text', 'RetweetCount', 'LikeCount','Username'])\n",
    "    print(\"Finish Scraping %s for %s\" %(len(tweets_df[game]), game))\n",
    "    \n",
    "    #Concat dict df into one df\n",
    "    # print(tweets_df)\n",
    "    new_df = pd.concat(tweets_df.values(), ignore_index=True)\n",
    "    return new_df['Text']\n",
    "\n",
    "# Main NLP program\n",
    "def nlp(game_title, scrap_no, activate_scrape, algorithm_choice):\n",
    "    \n",
    "    #insert function to scrape twitter for game title here\n",
    "    scrapped_tweets_raw = scraping_game(\"2022-01-01\", \"2022-11-04\", game_title, scrap_no)\n",
    "    scrapped_tweets_array = scrapped_tweets_raw.to_numpy()\n",
    "    \n",
    "    \"\"\"\n",
    "    \n",
    "    #insert preprocessing function here\n",
    "    processed_dataset = preprocess(dataset)\n",
    "    \n",
    "    #Reviewing overall sentiment\n",
    "    sentiment = 0.22\n",
    "    \"\"\"\n",
    "    \n",
    "    #Check which models to run \n",
    "    #NOTE INSERT PREDICTOR MODEL AS LABELED\n",
    "    if 'Bert' in algorithm_choice:\n",
    "        #Insert Bert model predictor here\n",
    "        bert_sentiment_result = analyze_sentiment(scrap_no)\n",
    "        bert_polarity_result = \"Bert polarity display\"\n",
    "    else:\n",
    "        bert_sentiment_result = \"Bert model not being run\"\n",
    "        bert_polarity_result = \"Bert model not being run\"\n",
    "        \n",
    "    #Repeat for SVM model\n",
    "    if 'SVM' in algorithm_choice:\n",
    "        #Insert SVM model predictor here\n",
    "        SVM_sentiment_result = \"SVM sentiment display\"\n",
    "        SVM_polarity_result = \"SVM polarity display\"\n",
    "    else:\n",
    "        SVM_sentiment_result = \"SVM model not being run\"\n",
    "        SVM_polarity_result = \"SVM model not being run\"\n",
    "    \n",
    "    #if scrape checkbox is marked\n",
    "    if activate_scrape:\n",
    "        return {bert_sentiment : game_title + bert_sentiment_result,\n",
    "                bert_polarity : bert_polarity_result,\n",
    "                svm_sentiment : SVM_sentiment_result,\n",
    "                svm_polarity : SVM_polarity_result,\n",
    "                scraped_tweets : scrapped_tweets_raw}\n",
    "    else:\n",
    "        return {bert_sentiment : game_title + \" \" + bert_sentiment_result,\n",
    "                bert_polarity : bert_polarity_result,\n",
    "                svm_sentiment : SVM_sentiment_result,\n",
    "                svm_polarity : SVM_polarity_result,}\n",
    "\n",
    "##EDIT TO INCLUDE EXCEPTION\n"
   ]
  },
  {
   "cell_type": "markdown",
   "id": "175ace8e",
   "metadata": {},
   "source": [
    "# Gradio Frontend code"
   ]
  },
  {
   "cell_type": "code",
   "execution_count": 17,
   "id": "4e6355ac",
   "metadata": {},
   "outputs": [
    {
     "name": "stdout",
     "output_type": "stream",
     "text": [
      "Running on local URL:  http://127.0.0.1:7865\n",
      "\n",
      "To create a public link, set `share=True` in `launch()`.\n"
     ]
    },
    {
     "data": {
      "text/html": [
       "<div><iframe src=\"http://127.0.0.1:7865/\" width=\"900\" height=\"500\" allow=\"autoplay; camera; microphone; clipboard-read; clipboard-write;\" frameborder=\"0\" allowfullscreen></iframe></div>"
      ],
      "text/plain": [
       "<IPython.core.display.HTML object>"
      ]
     },
     "metadata": {},
     "output_type": "display_data"
    },
    {
     "data": {
      "text/plain": [
       "(<gradio.routes.App at 0x1afe3c2c5b0>, 'http://127.0.0.1:7865/', None)"
      ]
     },
     "execution_count": 17,
     "metadata": {},
     "output_type": "execute_result"
    },
    {
     "name": "stdout",
     "output_type": "stream",
     "text": [
      "Finish Scraping 10 for Pokemon\n"
     ]
    }
   ],
   "source": [
    "with gr.Blocks() as demo:\n",
    "    with gr.Row():\n",
    "        #First Column\n",
    "        with gr.Column(scale=1):\n",
    "            game_title = gr.Textbox(label = \"Game Title\")\n",
    "            \n",
    "            #amount of tweets to scrape\n",
    "            scrap_no = gr.Slider(0,1000, label = \"Amount of tweets to scrape\")\n",
    "            \n",
    "            #Choose to display scraped text\n",
    "            activate_scrape = gr.Checkbox(label = \"Show scraped data?\")\n",
    "            \n",
    "            #Choice of algorithm\n",
    "            algorithm_choice = gr.CheckboxGroup(choices = [\"Bert\", \"SVM\"]),\n",
    "            \n",
    "            submit_button = gr.Button(\"Submit\")\n",
    "            \n",
    "            #Displays scrapped tweets if option is selected\n",
    "            scraped_tweets = gr.Textbox(label = \"Scraped Data\")\n",
    "            \n",
    "        #Second Column displays all model results\n",
    "        with gr.Column(scale=4):\n",
    "            bert_sentiment = gr.Textbox(label = \"Bert Sentiment\")\n",
    "            bert_polarity = gr.Textbox(label = \"Bert Polarity\")\n",
    "            svm_sentiment = gr.Textbox(label = \"SVM Sentiment\")\n",
    "            svm_polarity = gr.Textbox(label = \"SVM Polarity\")\n",
    "    \n",
    "    #Button to run nlp function\n",
    "    submit_button.click(nlp, \n",
    "                        inputs=[game_title,scrap_no,activate_scrape,algorithm_choice[0]], \n",
    "                        outputs=[bert_sentiment,\n",
    "                                bert_polarity,\n",
    "                                svm_sentiment,\n",
    "                                svm_polarity, \n",
    "                                scraped_tweets]\n",
    "                       )\n",
    "    \n",
    "\n",
    "demo.launch()"
   ]
  },
  {
   "cell_type": "code",
   "execution_count": null,
   "id": "3f783431",
   "metadata": {},
   "outputs": [],
   "source": []
  }
 ],
 "metadata": {
  "kernelspec": {
   "display_name": "Python 3 (ipykernel)",
   "language": "python",
   "name": "python3"
  },
  "language_info": {
   "codemirror_mode": {
    "name": "ipython",
    "version": 3
   },
   "file_extension": ".py",
   "mimetype": "text/x-python",
   "name": "python",
   "nbconvert_exporter": "python",
   "pygments_lexer": "ipython3",
   "version": "3.8.8"
  }
 },
 "nbformat": 4,
 "nbformat_minor": 5
}
