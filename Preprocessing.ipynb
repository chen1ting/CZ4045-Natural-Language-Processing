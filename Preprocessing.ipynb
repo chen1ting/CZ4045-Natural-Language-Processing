{
 "cells": [
  {
   "cell_type": "code",
   "execution_count": 1,
   "metadata": {},
   "outputs": [],
   "source": [
    "import pandas as pd"
   ]
  },
  {
   "cell_type": "markdown",
   "metadata": {},
   "source": [
    "# 1. Basic Text Pre-Processing\n",
    "\n",
    "Basic text preprocessing steps include a few essential tasks to further clean the available text data. It includes tasks like:-\n",
    "\n",
    "1. Stop-Word Removal\n",
    "2. Lower Casing\n",
    "3. Stemming\n",
    "4. Tokenization\n",
    "\n",
    "Pre-processing of the text is not the main objective of this notebook that's why I am just covering a few basic steps in a brief"
   ]
  },
  {
   "cell_type": "code",
   "execution_count": 6,
   "metadata": {},
   "outputs": [
    {
     "data": {
      "text/html": [
       "<div>\n",
       "<style scoped>\n",
       "    .dataframe tbody tr th:only-of-type {\n",
       "        vertical-align: middle;\n",
       "    }\n",
       "\n",
       "    .dataframe tbody tr th {\n",
       "        vertical-align: top;\n",
       "    }\n",
       "\n",
       "    .dataframe thead th {\n",
       "        text-align: right;\n",
       "    }\n",
       "</style>\n",
       "<table border=\"1\" class=\"dataframe\">\n",
       "  <thead>\n",
       "    <tr style=\"text-align: right;\">\n",
       "      <th></th>\n",
       "      <th>Annotator1</th>\n",
       "      <th>Anonator2</th>\n",
       "      <th>Text</th>\n",
       "      <th>Subjectivity</th>\n",
       "      <th>Polarity</th>\n",
       "      <th>Subjectivity_Anonator2</th>\n",
       "      <th>Polarity_Anonator2</th>\n",
       "    </tr>\n",
       "  </thead>\n",
       "  <tbody>\n",
       "    <tr>\n",
       "      <th>0</th>\n",
       "      <td>Jia Kai</td>\n",
       "      <td>Yiting</td>\n",
       "      <td>Hey Kingz Crew I Just Went Live On Twitch Come...</td>\n",
       "      <td>1.0</td>\n",
       "      <td>1.0</td>\n",
       "      <td>1.0</td>\n",
       "      <td>1.0</td>\n",
       "    </tr>\n",
       "    <tr>\n",
       "      <th>1</th>\n",
       "      <td>Jia Kai</td>\n",
       "      <td>Yiting</td>\n",
       "      <td>little bit of dbd into apex legends (: https:/...</td>\n",
       "      <td>0.0</td>\n",
       "      <td>NaN</td>\n",
       "      <td>0.0</td>\n",
       "      <td>0.0</td>\n",
       "    </tr>\n",
       "    <tr>\n",
       "      <th>2</th>\n",
       "      <td>Jia Kai</td>\n",
       "      <td>Yiting</td>\n",
       "      <td>Tuesday night apex?! Lets get some damage! htt...</td>\n",
       "      <td>1.0</td>\n",
       "      <td>1.0</td>\n",
       "      <td>1.0</td>\n",
       "      <td>1.0</td>\n",
       "    </tr>\n",
       "    <tr>\n",
       "      <th>3</th>\n",
       "      <td>Jia Kai</td>\n",
       "      <td>Yiting</td>\n",
       "      <td>Watch tohrmentgames GO CRAZY ON APEX!! FOLLOW ...</td>\n",
       "      <td>1.0</td>\n",
       "      <td>1.0</td>\n",
       "      <td>1.0</td>\n",
       "      <td>1.0</td>\n",
       "    </tr>\n",
       "    <tr>\n",
       "      <th>4</th>\n",
       "      <td>Jia Kai</td>\n",
       "      <td>Yiting</td>\n",
       "      <td>3...2...1.. ðŸ”´LIVE!ðŸ”´\\nðŸ‘ï¸ðŸ‘„ðŸ‘ï¸\\...</td>\n",
       "      <td>0.0</td>\n",
       "      <td>NaN</td>\n",
       "      <td>1.0</td>\n",
       "      <td>0.0</td>\n",
       "    </tr>\n",
       "  </tbody>\n",
       "</table>\n",
       "</div>"
      ],
      "text/plain": [
       "  Annotator1 Anonator2                                               Text  \\\n",
       "0    Jia Kai    Yiting  Hey Kingz Crew I Just Went Live On Twitch Come...   \n",
       "1    Jia Kai    Yiting  little bit of dbd into apex legends (: https:/...   \n",
       "2    Jia Kai    Yiting  Tuesday night apex?! Lets get some damage! htt...   \n",
       "3    Jia Kai    Yiting  Watch tohrmentgames GO CRAZY ON APEX!! FOLLOW ...   \n",
       "4    Jia Kai    Yiting  3...2...1.. ðŸ”´LIVE!ðŸ”´\\nðŸ‘ï¸ðŸ‘„ðŸ‘ï¸\\...   \n",
       "\n",
       "   Subjectivity  Polarity  Subjectivity_Anonator2  Polarity_Anonator2  \n",
       "0           1.0       1.0                     1.0                 1.0  \n",
       "1           0.0       NaN                     0.0                 0.0  \n",
       "2           1.0       1.0                     1.0                 1.0  \n",
       "3           1.0       1.0                     1.0                 1.0  \n",
       "4           0.0       NaN                     1.0                 0.0  "
      ]
     },
     "execution_count": 6,
     "metadata": {},
     "output_type": "execute_result"
    }
   ],
   "source": [
    "df=pd.read_excel(\"compiled_tweets.xlsx\", sheet_name=\"compiled_tweets\")\n",
    "df.head()"
   ]
  },
  {
   "cell_type": "code",
   "execution_count": 7,
   "metadata": {},
   "outputs": [
    {
     "name": "stdout",
     "output_type": "stream",
     "text": [
      "<class 'pandas.core.frame.DataFrame'>\n",
      "RangeIndex: 11042 entries, 0 to 11041\n",
      "Data columns (total 7 columns):\n",
      " #   Column                  Non-Null Count  Dtype  \n",
      "---  ------                  --------------  -----  \n",
      " 0   Annotator1              11042 non-null  object \n",
      " 1   Anonator2               11042 non-null  object \n",
      " 2   Text                    11042 non-null  object \n",
      " 3   Subjectivity            1061 non-null   float64\n",
      " 4   Polarity                560 non-null    float64\n",
      " 5   Subjectivity_Anonator2  871 non-null    float64\n",
      " 6   Polarity_Anonator2      525 non-null    float64\n",
      "dtypes: float64(4), object(3)\n",
      "memory usage: 604.0+ KB\n"
     ]
    }
   ],
   "source": [
    "df.info()"
   ]
  },
  {
   "cell_type": "code",
   "execution_count": 8,
   "metadata": {},
   "outputs": [],
   "source": [
    "train_df=df[df['Subjectivity'].isna()]"
   ]
  },
  {
   "cell_type": "markdown",
   "metadata": {},
   "source": [
    "#  Text Representation"
   ]
  },
  {
   "cell_type": "code",
   "execution_count": null,
   "metadata": {},
   "outputs": [],
   "source": []
  }
 ],
 "metadata": {
  "kernelspec": {
   "display_name": "Python 3.9.12 ('base')",
   "language": "python",
   "name": "python3"
  },
  "language_info": {
   "codemirror_mode": {
    "name": "ipython",
    "version": 3
   },
   "file_extension": ".py",
   "mimetype": "text/x-python",
   "name": "python",
   "nbconvert_exporter": "python",
   "pygments_lexer": "ipython3",
   "version": "3.9.12"
  },
  "orig_nbformat": 4,
  "vscode": {
   "interpreter": {
    "hash": "8c46ac5aaab4d3c9f2f9be91c3b9b95f2b8ede1f4aae554ca1e34eefcba1468b"
   }
  }
 },
 "nbformat": 4,
 "nbformat_minor": 2
}
